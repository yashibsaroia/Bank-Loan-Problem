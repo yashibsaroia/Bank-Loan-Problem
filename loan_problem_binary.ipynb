{
  "nbformat": 4,
  "nbformat_minor": 0,
  "metadata": {
    "colab": {
      "name": "mlLoanProbBinary.ipynb",
      "provenance": [],
      "collapsed_sections": []
    },
    "kernelspec": {
      "name": "python3",
      "display_name": "Python 3"
    },
    "language_info": {
      "name": "python"
    }
  },
  "cells": [
    {
      "cell_type": "code",
      "metadata": {
        "colab": {
          "base_uri": "https://localhost:8080/"
        },
        "id": "p6GOg7mwpStZ",
        "outputId": "fc369bb6-e153-4fb8-dcce-32a098e9cd42"
      },
      "source": [
        "#Mounting Google Drive to access the dataset\n",
        "from google.colab import drive\n",
        "drive.mount('/content/drive')"
      ],
      "execution_count": 1,
      "outputs": [
        {
          "output_type": "stream",
          "name": "stdout",
          "text": [
            "Mounted at /content/drive\n"
          ]
        }
      ]
    },
    {
      "cell_type": "code",
      "metadata": {
        "colab": {
          "base_uri": "https://localhost:8080/",
          "height": 35
        },
        "id": "yZUeRTRU7HtN",
        "outputId": "d81c37b5-5d26-443e-c83f-d913df3487e4"
      },
      "source": [
        "#importing libraries \n",
        "import numpy as np\n",
        "import pandas as pd\n",
        "import seaborn as sns\n",
        "import matplotlib.pyplot as plt\n",
        "from sklearn.model_selection import train_test_split, cross_val_score, GridSearchCV\n",
        "from sklearn.preprocessing import StandardScaler, LabelEncoder\n",
        "from sklearn.metrics import (\n",
        "    accuracy_score, confusion_matrix, classification_report, \n",
        "    roc_auc_score, roc_curve, auc,\n",
        "    plot_confusion_matrix, plot_roc_curve\n",
        ")\n",
        "import tensorflow as tf\n",
        "tf.__version__"
      ],
      "execution_count": 2,
      "outputs": [
        {
          "output_type": "execute_result",
          "data": {
            "text/plain": [
              "'2.8.0'"
            ],
            "application/vnd.google.colaboratory.intrinsic+json": {
              "type": "string"
            }
          },
          "metadata": {},
          "execution_count": 2
        }
      ]
    },
    {
      "cell_type": "code",
      "metadata": {
        "colab": {
          "base_uri": "https://localhost:8080/",
          "height": 818
        },
        "id": "1DBsR4ZYBfo9",
        "outputId": "ab397e15-f22e-4f82-f052-98aef6699807"
      },
      "source": [
        "#Import data from google drive\n",
        "data = pd.read_csv('/content/drive/MyDrive/ML_Datasets/loan.csv',skiprows=1)\n",
        "data"
      ],
      "execution_count": 3,
      "outputs": [
        {
          "output_type": "stream",
          "name": "stderr",
          "text": [
            "/usr/local/lib/python3.7/dist-packages/IPython/core/interactiveshell.py:2882: DtypeWarning: Columns (0,47) have mixed types.Specify dtype option on import or set low_memory=False.\n",
            "  exec(code_obj, self.user_global_ns, self.user_ns)\n"
          ]
        },
        {
          "output_type": "execute_result",
          "data": {
            "text/plain": [
              "                                                    id  member_id  loan_amnt  \\\n",
              "0                                                  NaN        NaN     5000.0   \n",
              "1                                                  NaN        NaN     2500.0   \n",
              "2                                                  NaN        NaN     2400.0   \n",
              "3                                                  NaN        NaN    10000.0   \n",
              "4                                                  NaN        NaN     3000.0   \n",
              "...                                                ...        ...        ...   \n",
              "42533                                              NaN        NaN     2525.0   \n",
              "42534                                              NaN        NaN     6500.0   \n",
              "42535                                              NaN        NaN     5000.0   \n",
              "42536  Total amount funded in policy code 1: 460296150        NaN        NaN   \n",
              "42537          Total amount funded in policy code 2: 0        NaN        NaN   \n",
              "\n",
              "       funded_amnt  funded_amnt_inv        term int_rate  installment grade  \\\n",
              "0           5000.0           4975.0   36 months   10.65%       162.87     B   \n",
              "1           2500.0           2500.0   60 months   15.27%        59.83     C   \n",
              "2           2400.0           2400.0   36 months   15.96%        84.33     C   \n",
              "3          10000.0          10000.0   36 months   13.49%       339.31     C   \n",
              "4           3000.0           3000.0   60 months   12.69%        67.79     B   \n",
              "...            ...              ...         ...      ...          ...   ...   \n",
              "42533       2525.0            225.0   36 months    9.33%        80.69     B   \n",
              "42534       6500.0              0.0   36 months    8.38%       204.84     A   \n",
              "42535       5000.0              0.0   36 months    7.75%       156.11     A   \n",
              "42536          NaN              NaN         NaN      NaN          NaN   NaN   \n",
              "42537          NaN              NaN         NaN      NaN          NaN   NaN   \n",
              "\n",
              "      sub_grade  ... hardship_payoff_balance_amount  \\\n",
              "0            B2  ...                            NaN   \n",
              "1            C4  ...                            NaN   \n",
              "2            C5  ...                            NaN   \n",
              "3            C1  ...                            NaN   \n",
              "4            B5  ...                            NaN   \n",
              "...         ...  ...                            ...   \n",
              "42533        B3  ...                            NaN   \n",
              "42534        A5  ...                            NaN   \n",
              "42535        A3  ...                            NaN   \n",
              "42536       NaN  ...                            NaN   \n",
              "42537       NaN  ...                            NaN   \n",
              "\n",
              "      hardship_last_payment_amount disbursement_method  debt_settlement_flag  \\\n",
              "0                              NaN                Cash                     N   \n",
              "1                              NaN                Cash                     N   \n",
              "2                              NaN                Cash                     N   \n",
              "3                              NaN                Cash                     N   \n",
              "4                              NaN                Cash                     N   \n",
              "...                            ...                 ...                   ...   \n",
              "42533                          NaN                Cash                     N   \n",
              "42534                          NaN                Cash                     N   \n",
              "42535                          NaN                Cash                     N   \n",
              "42536                          NaN                 NaN                   NaN   \n",
              "42537                          NaN                 NaN                   NaN   \n",
              "\n",
              "      debt_settlement_flag_date settlement_status settlement_date  \\\n",
              "0                           NaN               NaN             NaN   \n",
              "1                           NaN               NaN             NaN   \n",
              "2                           NaN               NaN             NaN   \n",
              "3                           NaN               NaN             NaN   \n",
              "4                           NaN               NaN             NaN   \n",
              "...                         ...               ...             ...   \n",
              "42533                       NaN               NaN             NaN   \n",
              "42534                       NaN               NaN             NaN   \n",
              "42535                       NaN               NaN             NaN   \n",
              "42536                       NaN               NaN             NaN   \n",
              "42537                       NaN               NaN             NaN   \n",
              "\n",
              "      settlement_amount  settlement_percentage settlement_term  \n",
              "0                   NaN                    NaN             NaN  \n",
              "1                   NaN                    NaN             NaN  \n",
              "2                   NaN                    NaN             NaN  \n",
              "3                   NaN                    NaN             NaN  \n",
              "4                   NaN                    NaN             NaN  \n",
              "...                 ...                    ...             ...  \n",
              "42533               NaN                    NaN             NaN  \n",
              "42534               NaN                    NaN             NaN  \n",
              "42535               NaN                    NaN             NaN  \n",
              "42536               NaN                    NaN             NaN  \n",
              "42537               NaN                    NaN             NaN  \n",
              "\n",
              "[42538 rows x 145 columns]"
            ],
            "text/html": [
              "\n",
              "  <div id=\"df-fd6c3b45-9eb9-46c3-ac04-94b4a9df028b\">\n",
              "    <div class=\"colab-df-container\">\n",
              "      <div>\n",
              "<style scoped>\n",
              "    .dataframe tbody tr th:only-of-type {\n",
              "        vertical-align: middle;\n",
              "    }\n",
              "\n",
              "    .dataframe tbody tr th {\n",
              "        vertical-align: top;\n",
              "    }\n",
              "\n",
              "    .dataframe thead th {\n",
              "        text-align: right;\n",
              "    }\n",
              "</style>\n",
              "<table border=\"1\" class=\"dataframe\">\n",
              "  <thead>\n",
              "    <tr style=\"text-align: right;\">\n",
              "      <th></th>\n",
              "      <th>id</th>\n",
              "      <th>member_id</th>\n",
              "      <th>loan_amnt</th>\n",
              "      <th>funded_amnt</th>\n",
              "      <th>funded_amnt_inv</th>\n",
              "      <th>term</th>\n",
              "      <th>int_rate</th>\n",
              "      <th>installment</th>\n",
              "      <th>grade</th>\n",
              "      <th>sub_grade</th>\n",
              "      <th>...</th>\n",
              "      <th>hardship_payoff_balance_amount</th>\n",
              "      <th>hardship_last_payment_amount</th>\n",
              "      <th>disbursement_method</th>\n",
              "      <th>debt_settlement_flag</th>\n",
              "      <th>debt_settlement_flag_date</th>\n",
              "      <th>settlement_status</th>\n",
              "      <th>settlement_date</th>\n",
              "      <th>settlement_amount</th>\n",
              "      <th>settlement_percentage</th>\n",
              "      <th>settlement_term</th>\n",
              "    </tr>\n",
              "  </thead>\n",
              "  <tbody>\n",
              "    <tr>\n",
              "      <th>0</th>\n",
              "      <td>NaN</td>\n",
              "      <td>NaN</td>\n",
              "      <td>5000.0</td>\n",
              "      <td>5000.0</td>\n",
              "      <td>4975.0</td>\n",
              "      <td>36 months</td>\n",
              "      <td>10.65%</td>\n",
              "      <td>162.87</td>\n",
              "      <td>B</td>\n",
              "      <td>B2</td>\n",
              "      <td>...</td>\n",
              "      <td>NaN</td>\n",
              "      <td>NaN</td>\n",
              "      <td>Cash</td>\n",
              "      <td>N</td>\n",
              "      <td>NaN</td>\n",
              "      <td>NaN</td>\n",
              "      <td>NaN</td>\n",
              "      <td>NaN</td>\n",
              "      <td>NaN</td>\n",
              "      <td>NaN</td>\n",
              "    </tr>\n",
              "    <tr>\n",
              "      <th>1</th>\n",
              "      <td>NaN</td>\n",
              "      <td>NaN</td>\n",
              "      <td>2500.0</td>\n",
              "      <td>2500.0</td>\n",
              "      <td>2500.0</td>\n",
              "      <td>60 months</td>\n",
              "      <td>15.27%</td>\n",
              "      <td>59.83</td>\n",
              "      <td>C</td>\n",
              "      <td>C4</td>\n",
              "      <td>...</td>\n",
              "      <td>NaN</td>\n",
              "      <td>NaN</td>\n",
              "      <td>Cash</td>\n",
              "      <td>N</td>\n",
              "      <td>NaN</td>\n",
              "      <td>NaN</td>\n",
              "      <td>NaN</td>\n",
              "      <td>NaN</td>\n",
              "      <td>NaN</td>\n",
              "      <td>NaN</td>\n",
              "    </tr>\n",
              "    <tr>\n",
              "      <th>2</th>\n",
              "      <td>NaN</td>\n",
              "      <td>NaN</td>\n",
              "      <td>2400.0</td>\n",
              "      <td>2400.0</td>\n",
              "      <td>2400.0</td>\n",
              "      <td>36 months</td>\n",
              "      <td>15.96%</td>\n",
              "      <td>84.33</td>\n",
              "      <td>C</td>\n",
              "      <td>C5</td>\n",
              "      <td>...</td>\n",
              "      <td>NaN</td>\n",
              "      <td>NaN</td>\n",
              "      <td>Cash</td>\n",
              "      <td>N</td>\n",
              "      <td>NaN</td>\n",
              "      <td>NaN</td>\n",
              "      <td>NaN</td>\n",
              "      <td>NaN</td>\n",
              "      <td>NaN</td>\n",
              "      <td>NaN</td>\n",
              "    </tr>\n",
              "    <tr>\n",
              "      <th>3</th>\n",
              "      <td>NaN</td>\n",
              "      <td>NaN</td>\n",
              "      <td>10000.0</td>\n",
              "      <td>10000.0</td>\n",
              "      <td>10000.0</td>\n",
              "      <td>36 months</td>\n",
              "      <td>13.49%</td>\n",
              "      <td>339.31</td>\n",
              "      <td>C</td>\n",
              "      <td>C1</td>\n",
              "      <td>...</td>\n",
              "      <td>NaN</td>\n",
              "      <td>NaN</td>\n",
              "      <td>Cash</td>\n",
              "      <td>N</td>\n",
              "      <td>NaN</td>\n",
              "      <td>NaN</td>\n",
              "      <td>NaN</td>\n",
              "      <td>NaN</td>\n",
              "      <td>NaN</td>\n",
              "      <td>NaN</td>\n",
              "    </tr>\n",
              "    <tr>\n",
              "      <th>4</th>\n",
              "      <td>NaN</td>\n",
              "      <td>NaN</td>\n",
              "      <td>3000.0</td>\n",
              "      <td>3000.0</td>\n",
              "      <td>3000.0</td>\n",
              "      <td>60 months</td>\n",
              "      <td>12.69%</td>\n",
              "      <td>67.79</td>\n",
              "      <td>B</td>\n",
              "      <td>B5</td>\n",
              "      <td>...</td>\n",
              "      <td>NaN</td>\n",
              "      <td>NaN</td>\n",
              "      <td>Cash</td>\n",
              "      <td>N</td>\n",
              "      <td>NaN</td>\n",
              "      <td>NaN</td>\n",
              "      <td>NaN</td>\n",
              "      <td>NaN</td>\n",
              "      <td>NaN</td>\n",
              "      <td>NaN</td>\n",
              "    </tr>\n",
              "    <tr>\n",
              "      <th>...</th>\n",
              "      <td>...</td>\n",
              "      <td>...</td>\n",
              "      <td>...</td>\n",
              "      <td>...</td>\n",
              "      <td>...</td>\n",
              "      <td>...</td>\n",
              "      <td>...</td>\n",
              "      <td>...</td>\n",
              "      <td>...</td>\n",
              "      <td>...</td>\n",
              "      <td>...</td>\n",
              "      <td>...</td>\n",
              "      <td>...</td>\n",
              "      <td>...</td>\n",
              "      <td>...</td>\n",
              "      <td>...</td>\n",
              "      <td>...</td>\n",
              "      <td>...</td>\n",
              "      <td>...</td>\n",
              "      <td>...</td>\n",
              "      <td>...</td>\n",
              "    </tr>\n",
              "    <tr>\n",
              "      <th>42533</th>\n",
              "      <td>NaN</td>\n",
              "      <td>NaN</td>\n",
              "      <td>2525.0</td>\n",
              "      <td>2525.0</td>\n",
              "      <td>225.0</td>\n",
              "      <td>36 months</td>\n",
              "      <td>9.33%</td>\n",
              "      <td>80.69</td>\n",
              "      <td>B</td>\n",
              "      <td>B3</td>\n",
              "      <td>...</td>\n",
              "      <td>NaN</td>\n",
              "      <td>NaN</td>\n",
              "      <td>Cash</td>\n",
              "      <td>N</td>\n",
              "      <td>NaN</td>\n",
              "      <td>NaN</td>\n",
              "      <td>NaN</td>\n",
              "      <td>NaN</td>\n",
              "      <td>NaN</td>\n",
              "      <td>NaN</td>\n",
              "    </tr>\n",
              "    <tr>\n",
              "      <th>42534</th>\n",
              "      <td>NaN</td>\n",
              "      <td>NaN</td>\n",
              "      <td>6500.0</td>\n",
              "      <td>6500.0</td>\n",
              "      <td>0.0</td>\n",
              "      <td>36 months</td>\n",
              "      <td>8.38%</td>\n",
              "      <td>204.84</td>\n",
              "      <td>A</td>\n",
              "      <td>A5</td>\n",
              "      <td>...</td>\n",
              "      <td>NaN</td>\n",
              "      <td>NaN</td>\n",
              "      <td>Cash</td>\n",
              "      <td>N</td>\n",
              "      <td>NaN</td>\n",
              "      <td>NaN</td>\n",
              "      <td>NaN</td>\n",
              "      <td>NaN</td>\n",
              "      <td>NaN</td>\n",
              "      <td>NaN</td>\n",
              "    </tr>\n",
              "    <tr>\n",
              "      <th>42535</th>\n",
              "      <td>NaN</td>\n",
              "      <td>NaN</td>\n",
              "      <td>5000.0</td>\n",
              "      <td>5000.0</td>\n",
              "      <td>0.0</td>\n",
              "      <td>36 months</td>\n",
              "      <td>7.75%</td>\n",
              "      <td>156.11</td>\n",
              "      <td>A</td>\n",
              "      <td>A3</td>\n",
              "      <td>...</td>\n",
              "      <td>NaN</td>\n",
              "      <td>NaN</td>\n",
              "      <td>Cash</td>\n",
              "      <td>N</td>\n",
              "      <td>NaN</td>\n",
              "      <td>NaN</td>\n",
              "      <td>NaN</td>\n",
              "      <td>NaN</td>\n",
              "      <td>NaN</td>\n",
              "      <td>NaN</td>\n",
              "    </tr>\n",
              "    <tr>\n",
              "      <th>42536</th>\n",
              "      <td>Total amount funded in policy code 1: 460296150</td>\n",
              "      <td>NaN</td>\n",
              "      <td>NaN</td>\n",
              "      <td>NaN</td>\n",
              "      <td>NaN</td>\n",
              "      <td>NaN</td>\n",
              "      <td>NaN</td>\n",
              "      <td>NaN</td>\n",
              "      <td>NaN</td>\n",
              "      <td>NaN</td>\n",
              "      <td>...</td>\n",
              "      <td>NaN</td>\n",
              "      <td>NaN</td>\n",
              "      <td>NaN</td>\n",
              "      <td>NaN</td>\n",
              "      <td>NaN</td>\n",
              "      <td>NaN</td>\n",
              "      <td>NaN</td>\n",
              "      <td>NaN</td>\n",
              "      <td>NaN</td>\n",
              "      <td>NaN</td>\n",
              "    </tr>\n",
              "    <tr>\n",
              "      <th>42537</th>\n",
              "      <td>Total amount funded in policy code 2: 0</td>\n",
              "      <td>NaN</td>\n",
              "      <td>NaN</td>\n",
              "      <td>NaN</td>\n",
              "      <td>NaN</td>\n",
              "      <td>NaN</td>\n",
              "      <td>NaN</td>\n",
              "      <td>NaN</td>\n",
              "      <td>NaN</td>\n",
              "      <td>NaN</td>\n",
              "      <td>...</td>\n",
              "      <td>NaN</td>\n",
              "      <td>NaN</td>\n",
              "      <td>NaN</td>\n",
              "      <td>NaN</td>\n",
              "      <td>NaN</td>\n",
              "      <td>NaN</td>\n",
              "      <td>NaN</td>\n",
              "      <td>NaN</td>\n",
              "      <td>NaN</td>\n",
              "      <td>NaN</td>\n",
              "    </tr>\n",
              "  </tbody>\n",
              "</table>\n",
              "<p>42538 rows × 145 columns</p>\n",
              "</div>\n",
              "      <button class=\"colab-df-convert\" onclick=\"convertToInteractive('df-fd6c3b45-9eb9-46c3-ac04-94b4a9df028b')\"\n",
              "              title=\"Convert this dataframe to an interactive table.\"\n",
              "              style=\"display:none;\">\n",
              "        \n",
              "  <svg xmlns=\"http://www.w3.org/2000/svg\" height=\"24px\"viewBox=\"0 0 24 24\"\n",
              "       width=\"24px\">\n",
              "    <path d=\"M0 0h24v24H0V0z\" fill=\"none\"/>\n",
              "    <path d=\"M18.56 5.44l.94 2.06.94-2.06 2.06-.94-2.06-.94-.94-2.06-.94 2.06-2.06.94zm-11 1L8.5 8.5l.94-2.06 2.06-.94-2.06-.94L8.5 2.5l-.94 2.06-2.06.94zm10 10l.94 2.06.94-2.06 2.06-.94-2.06-.94-.94-2.06-.94 2.06-2.06.94z\"/><path d=\"M17.41 7.96l-1.37-1.37c-.4-.4-.92-.59-1.43-.59-.52 0-1.04.2-1.43.59L10.3 9.45l-7.72 7.72c-.78.78-.78 2.05 0 2.83L4 21.41c.39.39.9.59 1.41.59.51 0 1.02-.2 1.41-.59l7.78-7.78 2.81-2.81c.8-.78.8-2.07 0-2.86zM5.41 20L4 18.59l7.72-7.72 1.47 1.35L5.41 20z\"/>\n",
              "  </svg>\n",
              "      </button>\n",
              "      \n",
              "  <style>\n",
              "    .colab-df-container {\n",
              "      display:flex;\n",
              "      flex-wrap:wrap;\n",
              "      gap: 12px;\n",
              "    }\n",
              "\n",
              "    .colab-df-convert {\n",
              "      background-color: #E8F0FE;\n",
              "      border: none;\n",
              "      border-radius: 50%;\n",
              "      cursor: pointer;\n",
              "      display: none;\n",
              "      fill: #1967D2;\n",
              "      height: 32px;\n",
              "      padding: 0 0 0 0;\n",
              "      width: 32px;\n",
              "    }\n",
              "\n",
              "    .colab-df-convert:hover {\n",
              "      background-color: #E2EBFA;\n",
              "      box-shadow: 0px 1px 2px rgba(60, 64, 67, 0.3), 0px 1px 3px 1px rgba(60, 64, 67, 0.15);\n",
              "      fill: #174EA6;\n",
              "    }\n",
              "\n",
              "    [theme=dark] .colab-df-convert {\n",
              "      background-color: #3B4455;\n",
              "      fill: #D2E3FC;\n",
              "    }\n",
              "\n",
              "    [theme=dark] .colab-df-convert:hover {\n",
              "      background-color: #434B5C;\n",
              "      box-shadow: 0px 1px 3px 1px rgba(0, 0, 0, 0.15);\n",
              "      filter: drop-shadow(0px 1px 2px rgba(0, 0, 0, 0.3));\n",
              "      fill: #FFFFFF;\n",
              "    }\n",
              "  </style>\n",
              "\n",
              "      <script>\n",
              "        const buttonEl =\n",
              "          document.querySelector('#df-fd6c3b45-9eb9-46c3-ac04-94b4a9df028b button.colab-df-convert');\n",
              "        buttonEl.style.display =\n",
              "          google.colab.kernel.accessAllowed ? 'block' : 'none';\n",
              "\n",
              "        async function convertToInteractive(key) {\n",
              "          const element = document.querySelector('#df-fd6c3b45-9eb9-46c3-ac04-94b4a9df028b');\n",
              "          const dataTable =\n",
              "            await google.colab.kernel.invokeFunction('convertToInteractive',\n",
              "                                                     [key], {});\n",
              "          if (!dataTable) return;\n",
              "\n",
              "          const docLinkHtml = 'Like what you see? Visit the ' +\n",
              "            '<a target=\"_blank\" href=https://colab.research.google.com/notebooks/data_table.ipynb>data table notebook</a>'\n",
              "            + ' to learn more about interactive tables.';\n",
              "          element.innerHTML = '';\n",
              "          dataTable['output_type'] = 'display_data';\n",
              "          await google.colab.output.renderOutput(dataTable, element);\n",
              "          const docLink = document.createElement('div');\n",
              "          docLink.innerHTML = docLinkHtml;\n",
              "          element.appendChild(docLink);\n",
              "        }\n",
              "      </script>\n",
              "    </div>\n",
              "  </div>\n",
              "  "
            ]
          },
          "metadata": {},
          "execution_count": 3
        }
      ]
    },
    {
      "cell_type": "markdown",
      "metadata": {
        "id": "jpm5KWrzItuC"
      },
      "source": [
        "# **Data Prepration and Cleaning**\n",
        "\n",
        "---\n",
        "\n"
      ]
    },
    {
      "cell_type": "code",
      "metadata": {
        "colab": {
          "base_uri": "https://localhost:8080/"
        },
        "id": "vPtRgKwOBvQJ",
        "outputId": "5b6fc5cf-23b9-4a28-ef93-cfb7adc8e83b"
      },
      "source": [
        "#selection of necessary columns for our analysis\n",
        "df = data.filter(['loan_amnt','int_rate','emp_length','home_ownership',\n",
        "                    'annual_inc','purpose','addr_state','dti','loan_status'])\n",
        "df.dtypes"
      ],
      "execution_count": 4,
      "outputs": [
        {
          "output_type": "execute_result",
          "data": {
            "text/plain": [
              "loan_amnt         float64\n",
              "int_rate           object\n",
              "emp_length         object\n",
              "home_ownership     object\n",
              "annual_inc        float64\n",
              "purpose            object\n",
              "addr_state         object\n",
              "dti               float64\n",
              "loan_status        object\n",
              "dtype: object"
            ]
          },
          "metadata": {},
          "execution_count": 4
        }
      ]
    },
    {
      "cell_type": "code",
      "metadata": {
        "id": "Ogxr4V7zI4bC"
      },
      "source": [
        "#changing int_rate to float\n",
        "df['int_rate'] = df['int_rate'].str.rstrip('%').astype('float') / 100.0"
      ],
      "execution_count": 5,
      "outputs": []
    },
    {
      "cell_type": "code",
      "metadata": {
        "id": "qjlpryIdFCiF"
      },
      "source": [
        "## dropping the null rows since we have sufficient amount of data and there is no need to fill the null values.\n",
        "df.dropna(axis=0, inplace=True)"
      ],
      "execution_count": 6,
      "outputs": []
    },
    {
      "cell_type": "code",
      "metadata": {
        "colab": {
          "base_uri": "https://localhost:8080/",
          "height": 513
        },
        "id": "rW0RTzfvFOF9",
        "outputId": "361e740d-1068-45b5-f44f-0d942af8b282"
      },
      "source": [
        "m =df['loan_status'].value_counts()\n",
        "m = m.to_frame()\n",
        "m.reset_index(inplace=True)\n",
        "m.columns = ['Loan Status','Count']\n",
        "plt.subplots(figsize=(20,8))\n",
        "sns.barplot(y='Count', x='Loan Status', data=m)\n",
        "plt.xlabel(\"Length\")\n",
        "plt.ylabel(\"Count\")\n",
        "plt.title(\"Distribution of Loan Status in our Dataset\")\n",
        "plt.show()"
      ],
      "execution_count": 7,
      "outputs": [
        {
          "output_type": "display_data",
          "data": {
            "text/plain": [
              "<Figure size 1440x576 with 1 Axes>"
            ],
            "image/png": "[encoded data removed]"
          },
          "metadata": {
            "needs_background": "light"
          }
        }
      ]
    },
    {
      "cell_type": "code",
      "metadata": {
        "colab": {
          "base_uri": "https://localhost:8080/"
        },
        "id": "21fk0ZUTFT59",
        "outputId": "a6104f8a-6a44-49d0-e266-2463ced51951"
      },
      "source": [
        "df = df.replace({'loan_status':{'Charged Off':'Default'\n",
        "                                ,'Does not meet the credit policy. Status:Charged Off':'Default'\n",
        "                                ,'Does not meet the credit policy. Status:Fully Paid':'Fully Paid'}})\n",
        "df['loan_status'].value_counts()"
      ],
      "execution_count": 8,
      "outputs": [
        {
          "output_type": "execute_result",
          "data": {
            "text/plain": [
              "Fully Paid    35233\n",
              "Default        6186\n",
              "Name: loan_status, dtype: int64"
            ]
          },
          "metadata": {},
          "execution_count": 8
        }
      ]
    },
    {
      "cell_type": "code",
      "metadata": {
        "colab": {
          "base_uri": "https://localhost:8080/",
          "height": 423
        },
        "id": "zJcZLDqkMZ5O",
        "outputId": "d40e9b6c-3ec7-42fa-dc69-0b4fe144f52c"
      },
      "source": [
        "df"
      ],
      "execution_count": 9,
      "outputs": [
        {
          "output_type": "execute_result",
          "data": {
            "text/plain": [
              "       loan_amnt  int_rate emp_length home_ownership  annual_inc  \\\n",
              "0         5000.0    0.1065  10+ years           RENT     24000.0   \n",
              "1         2500.0    0.1527   < 1 year           RENT     30000.0   \n",
              "2         2400.0    0.1596  10+ years           RENT     12252.0   \n",
              "3        10000.0    0.1349  10+ years           RENT     49200.0   \n",
              "4         3000.0    0.1269     1 year           RENT     80000.0   \n",
              "...          ...       ...        ...            ...         ...   \n",
              "42530     6500.0    0.0964   < 1 year           RENT     20000.0   \n",
              "42531     3500.0    0.1028   < 1 year           RENT    180000.0   \n",
              "42532     1000.0    0.0964   < 1 year           RENT     12000.0   \n",
              "42533     2525.0    0.0933   < 1 year           RENT    110000.0   \n",
              "42535     5000.0    0.0775  10+ years       MORTGAGE     70000.0   \n",
              "\n",
              "              purpose addr_state    dti loan_status  \n",
              "0         credit_card         AZ  27.65  Fully Paid  \n",
              "1                 car         GA   1.00     Default  \n",
              "2      small_business         IL   8.72  Fully Paid  \n",
              "3               other         CA  20.00  Fully Paid  \n",
              "4               other         OR  17.94  Fully Paid  \n",
              "...               ...        ...    ...         ...  \n",
              "42530           other         CT  10.00     Default  \n",
              "42531           other         NY  10.00  Fully Paid  \n",
              "42532           other         MA  10.00  Fully Paid  \n",
              "42533           other         NY  10.00  Fully Paid  \n",
              "42535           other         CT   8.81  Fully Paid  \n",
              "\n",
              "[41419 rows x 9 columns]"
            ],
            "text/html": [
              "\n",
              "  <div id=\"df-4547e6e2-218b-4acd-b6d6-c23660e649b8\">\n",
              "    <div class=\"colab-df-container\">\n",
              "      <div>\n",
              "<style scoped>\n",
              "    .dataframe tbody tr th:only-of-type {\n",
              "        vertical-align: middle;\n",
              "    }\n",
              "\n",
              "    .dataframe tbody tr th {\n",
              "        vertical-align: top;\n",
              "    }\n",
              "\n",
              "    .dataframe thead th {\n",
              "        text-align: right;\n",
              "    }\n",
              "</style>\n",
              "<table border=\"1\" class=\"dataframe\">\n",
              "  <thead>\n",
              "    <tr style=\"text-align: right;\">\n",
              "      <th></th>\n",
              "      <th>loan_amnt</th>\n",
              "      <th>int_rate</th>\n",
              "      <th>emp_length</th>\n",
              "      <th>home_ownership</th>\n",
              "      <th>annual_inc</th>\n",
              "      <th>purpose</th>\n",
              "      <th>addr_state</th>\n",
              "      <th>dti</th>\n",
              "      <th>loan_status</th>\n",
              "    </tr>\n",
              "  </thead>\n",
              "  <tbody>\n",
              "    <tr>\n",
              "      <th>0</th>\n",
              "      <td>5000.0</td>\n",
              "      <td>0.1065</td>\n",
              "      <td>10+ years</td>\n",
              "      <td>RENT</td>\n",
              "      <td>24000.0</td>\n",
              "      <td>credit_card</td>\n",
              "      <td>AZ</td>\n",
              "      <td>27.65</td>\n",
              "      <td>Fully Paid</td>\n",
              "    </tr>\n",
              "    <tr>\n",
              "      <th>1</th>\n",
              "      <td>2500.0</td>\n",
              "      <td>0.1527</td>\n",
              "      <td>&lt; 1 year</td>\n",
              "      <td>RENT</td>\n",
              "      <td>30000.0</td>\n",
              "      <td>car</td>\n",
              "      <td>GA</td>\n",
              "      <td>1.00</td>\n",
              "      <td>Default</td>\n",
              "    </tr>\n",
              "    <tr>\n",
              "      <th>2</th>\n",
              "      <td>2400.0</td>\n",
              "      <td>0.1596</td>\n",
              "      <td>10+ years</td>\n",
              "      <td>RENT</td>\n",
              "      <td>12252.0</td>\n",
              "      <td>small_business</td>\n",
              "      <td>IL</td>\n",
              "      <td>8.72</td>\n",
              "      <td>Fully Paid</td>\n",
              "    </tr>\n",
              "    <tr>\n",
              "      <th>3</th>\n",
              "      <td>10000.0</td>\n",
              "      <td>0.1349</td>\n",
              "      <td>10+ years</td>\n",
              "      <td>RENT</td>\n",
              "      <td>49200.0</td>\n",
              "      <td>other</td>\n",
              "      <td>CA</td>\n",
              "      <td>20.00</td>\n",
              "      <td>Fully Paid</td>\n",
              "    </tr>\n",
              "    <tr>\n",
              "      <th>4</th>\n",
              "      <td>3000.0</td>\n",
              "      <td>0.1269</td>\n",
              "      <td>1 year</td>\n",
              "      <td>RENT</td>\n",
              "      <td>80000.0</td>\n",
              "      <td>other</td>\n",
              "      <td>OR</td>\n",
              "      <td>17.94</td>\n",
              "      <td>Fully Paid</td>\n",
              "    </tr>\n",
              "    <tr>\n",
              "      <th>...</th>\n",
              "      <td>...</td>\n",
              "      <td>...</td>\n",
              "      <td>...</td>\n",
              "      <td>...</td>\n",
              "      <td>...</td>\n",
              "      <td>...</td>\n",
              "      <td>...</td>\n",
              "      <td>...</td>\n",
              "      <td>...</td>\n",
              "    </tr>\n",
              "    <tr>\n",
              "      <th>42530</th>\n",
              "      <td>6500.0</td>\n",
              "      <td>0.0964</td>\n",
              "      <td>&lt; 1 year</td>\n",
              "      <td>RENT</td>\n",
              "      <td>20000.0</td>\n",
              "      <td>other</td>\n",
              "      <td>CT</td>\n",
              "      <td>10.00</td>\n",
              "      <td>Default</td>\n",
              "    </tr>\n",
              "    <tr>\n",
              "      <th>42531</th>\n",
              "      <td>3500.0</td>\n",
              "      <td>0.1028</td>\n",
              "      <td>&lt; 1 year</td>\n",
              "      <td>RENT</td>\n",
              "      <td>180000.0</td>\n",
              "      <td>other</td>\n",
              "      <td>NY</td>\n",
              "      <td>10.00</td>\n",
              "      <td>Fully Paid</td>\n",
              "    </tr>\n",
              "    <tr>\n",
              "      <th>42532</th>\n",
              "      <td>1000.0</td>\n",
              "      <td>0.0964</td>\n",
              "      <td>&lt; 1 year</td>\n",
              "      <td>RENT</td>\n",
              "      <td>12000.0</td>\n",
              "      <td>other</td>\n",
              "      <td>MA</td>\n",
              "      <td>10.00</td>\n",
              "      <td>Fully Paid</td>\n",
              "    </tr>\n",
              "    <tr>\n",
              "      <th>42533</th>\n",
              "      <td>2525.0</td>\n",
              "      <td>0.0933</td>\n",
              "      <td>&lt; 1 year</td>\n",
              "      <td>RENT</td>\n",
              "      <td>110000.0</td>\n",
              "      <td>other</td>\n",
              "      <td>NY</td>\n",
              "      <td>10.00</td>\n",
              "      <td>Fully Paid</td>\n",
              "    </tr>\n",
              "    <tr>\n",
              "      <th>42535</th>\n",
              "      <td>5000.0</td>\n",
              "      <td>0.0775</td>\n",
              "      <td>10+ years</td>\n",
              "      <td>MORTGAGE</td>\n",
              "      <td>70000.0</td>\n",
              "      <td>other</td>\n",
              "      <td>CT</td>\n",
              "      <td>8.81</td>\n",
              "      <td>Fully Paid</td>\n",
              "    </tr>\n",
              "  </tbody>\n",
              "</table>\n",
              "<p>41419 rows × 9 columns</p>\n",
              "</div>\n",
              "      <button class=\"colab-df-convert\" onclick=\"convertToInteractive('df-4547e6e2-218b-4acd-b6d6-c23660e649b8')\"\n",
              "              title=\"Convert this dataframe to an interactive table.\"\n",
              "              style=\"display:none;\">\n",
              "        \n",
              "  <svg xmlns=\"http://www.w3.org/2000/svg\" height=\"24px\"viewBox=\"0 0 24 24\"\n",
              "       width=\"24px\">\n",
              "    <path d=\"M0 0h24v24H0V0z\" fill=\"none\"/>\n",
              "    <path d=\"M18.56 5.44l.94 2.06.94-2.06 2.06-.94-2.06-.94-.94-2.06-.94 2.06-2.06.94zm-11 1L8.5 8.5l.94-2.06 2.06-.94-2.06-.94L8.5 2.5l-.94 2.06-2.06.94zm10 10l.94 2.06.94-2.06 2.06-.94-2.06-.94-.94-2.06-.94 2.06-2.06.94z\"/><path d=\"M17.41 7.96l-1.37-1.37c-.4-.4-.92-.59-1.43-.59-.52 0-1.04.2-1.43.59L10.3 9.45l-7.72 7.72c-.78.78-.78 2.05 0 2.83L4 21.41c.39.39.9.59 1.41.59.51 0 1.02-.2 1.41-.59l7.78-7.78 2.81-2.81c.8-.78.8-2.07 0-2.86zM5.41 20L4 18.59l7.72-7.72 1.47 1.35L5.41 20z\"/>\n",
              "  </svg>\n",
              "      </button>\n",
              "      \n",
              "  <style>\n",
              "    .colab-df-container {\n",
              "      display:flex;\n",
              "      flex-wrap:wrap;\n",
              "      gap: 12px;\n",
              "    }\n",
              "\n",
              "    .colab-df-convert {\n",
              "      background-color: #E8F0FE;\n",
              "      border: none;\n",
              "      border-radius: 50%;\n",
              "      cursor: pointer;\n",
              "      display: none;\n",
              "      fill: #1967D2;\n",
              "      height: 32px;\n",
              "      padding: 0 0 0 0;\n",
              "      width: 32px;\n",
              "    }\n",
              "\n",
              "    .colab-df-convert:hover {\n",
              "      background-color: #E2EBFA;\n",
              "      box-shadow: 0px 1px 2px rgba(60, 64, 67, 0.3), 0px 1px 3px 1px rgba(60, 64, 67, 0.15);\n",
              "      fill: #174EA6;\n",
              "    }\n",
              "\n",
              "    [theme=dark] .colab-df-convert {\n",
              "      background-color: #3B4455;\n",
              "      fill: #D2E3FC;\n",
              "    }\n",
              "\n",
              "    [theme=dark] .colab-df-convert:hover {\n",
              "      background-color: #434B5C;\n",
              "      box-shadow: 0px 1px 3px 1px rgba(0, 0, 0, 0.15);\n",
              "      filter: drop-shadow(0px 1px 2px rgba(0, 0, 0, 0.3));\n",
              "      fill: #FFFFFF;\n",
              "    }\n",
              "  </style>\n",
              "\n",
              "      <script>\n",
              "        const buttonEl =\n",
              "          document.querySelector('#df-4547e6e2-218b-4acd-b6d6-c23660e649b8 button.colab-df-convert');\n",
              "        buttonEl.style.display =\n",
              "          google.colab.kernel.accessAllowed ? 'block' : 'none';\n",
              "\n",
              "        async function convertToInteractive(key) {\n",
              "          const element = document.querySelector('#df-4547e6e2-218b-4acd-b6d6-c23660e649b8');\n",
              "          const dataTable =\n",
              "            await google.colab.kernel.invokeFunction('convertToInteractive',\n",
              "                                                     [key], {});\n",
              "          if (!dataTable) return;\n",
              "\n",
              "          const docLinkHtml = 'Like what you see? Visit the ' +\n",
              "            '<a target=\"_blank\" href=https://colab.research.google.com/notebooks/data_table.ipynb>data table notebook</a>'\n",
              "            + ' to learn more about interactive tables.';\n",
              "          element.innerHTML = '';\n",
              "          dataTable['output_type'] = 'display_data';\n",
              "          await google.colab.output.renderOutput(dataTable, element);\n",
              "          const docLink = document.createElement('div');\n",
              "          docLink.innerHTML = docLinkHtml;\n",
              "          element.appendChild(docLink);\n",
              "        }\n",
              "      </script>\n",
              "    </div>\n",
              "  </div>\n",
              "  "
            ]
          },
          "metadata": {},
          "execution_count": 9
        }
      ]
    },
    {
      "cell_type": "markdown",
      "metadata": {
        "id": "BCmeE1dLJje4"
      },
      "source": [
        "# **Transformation**\n"
      ]
    },
    {
      "cell_type": "code",
      "metadata": {
        "colab": {
          "base_uri": "https://localhost:8080/"
        },
        "id": "Q-cfyXIYFl0M",
        "outputId": "671aed11-22eb-41d7-afcd-8eeeb08c54ce"
      },
      "source": [
        "X = df.iloc [:, :-1].values\n",
        "y = df.iloc [:, -1].values\n",
        "\n",
        "X"
      ],
      "execution_count": 10,
      "outputs": [
        {
          "output_type": "execute_result",
          "data": {
            "text/plain": [
              "array([[5000.0, 0.1065, '10+ years', ..., 'credit_card', 'AZ', 27.65],\n",
              "       [2500.0, 0.1527, '< 1 year', ..., 'car', 'GA', 1.0],\n",
              "       [2400.0, 0.15960000000000002, '10+ years', ..., 'small_business',\n",
              "        'IL', 8.72],\n",
              "       ...,\n",
              "       [1000.0, 0.0964, '< 1 year', ..., 'other', 'MA', 10.0],\n",
              "       [2525.0, 0.0933, '< 1 year', ..., 'other', 'NY', 10.0],\n",
              "       [5000.0, 0.0775, '10+ years', ..., 'other', 'CT', 8.81]],\n",
              "      dtype=object)"
            ]
          },
          "metadata": {},
          "execution_count": 10
        }
      ]
    },
    {
      "cell_type": "code",
      "metadata": {
        "colab": {
          "base_uri": "https://localhost:8080/"
        },
        "id": "jKj-Z7dqJWFo",
        "outputId": "7832b3d7-45d3-43f4-abff-2b8121934c24"
      },
      "source": [
        "y"
      ],
      "execution_count": 11,
      "outputs": [
        {
          "output_type": "execute_result",
          "data": {
            "text/plain": [
              "array(['Fully Paid', 'Default', 'Fully Paid', ..., 'Fully Paid',\n",
              "       'Fully Paid', 'Fully Paid'], dtype=object)"
            ]
          },
          "metadata": {},
          "execution_count": 11
        }
      ]
    },
    {
      "cell_type": "code",
      "metadata": {
        "colab": {
          "base_uri": "https://localhost:8080/"
        },
        "id": "7YlQ0tHqKCdg",
        "outputId": "f1a2d9da-99ad-4240-f0da-18ecf8ddfb30"
      },
      "source": [
        "le = LabelEncoder()\n",
        "y = le.fit_transform(y)\n",
        "y"
      ],
      "execution_count": 12,
      "outputs": [
        {
          "output_type": "execute_result",
          "data": {
            "text/plain": [
              "array([1, 0, 1, ..., 1, 1, 1])"
            ]
          },
          "metadata": {},
          "execution_count": 12
        }
      ]
    },
    {
      "cell_type": "code",
      "metadata": {
        "colab": {
          "base_uri": "https://localhost:8080/"
        },
        "id": "d5d1O4zuKrgn",
        "outputId": "f06ba94b-6378-48b6-d5e1-010b8cff631c"
      },
      "source": [
        "X[:, 2] = le.fit_transform(X[:, 2])\n",
        "X[:, 3] = le.fit_transform(X[:, 3])\n",
        "X[:, 5] = le.fit_transform(X[:, 5])\n",
        "X[:, 6] = le.fit_transform(X[:, 6])\n",
        "\n",
        "X"
      ],
      "execution_count": 13,
      "outputs": [
        {
          "output_type": "execute_result",
          "data": {
            "text/plain": [
              "array([[5000.0, 0.1065, 1, ..., 1, 3, 27.65],\n",
              "       [2500.0, 0.1527, 10, ..., 0, 10, 1.0],\n",
              "       [2400.0, 0.15960000000000002, 1, ..., 11, 14, 8.72],\n",
              "       ...,\n",
              "       [1000.0, 0.0964, 10, ..., 9, 19, 10.0],\n",
              "       [2525.0, 0.0933, 10, ..., 9, 33, 10.0],\n",
              "       [5000.0, 0.0775, 1, ..., 9, 6, 8.81]], dtype=object)"
            ]
          },
          "metadata": {},
          "execution_count": 13
        }
      ]
    },
    {
      "cell_type": "code",
      "metadata": {
        "id": "lcFWmPmtKsJv"
      },
      "source": [
        "#train and test split\n",
        "X_train, X_test, y_train, y_test = train_test_split (X, y, test_size = 0.2, random_state = 17)"
      ],
      "execution_count": 14,
      "outputs": []
    },
    {
      "cell_type": "code",
      "metadata": {
        "id": "0urGZdPtK-S3"
      },
      "source": [
        "#standarization of the parameters\n",
        "sc = StandardScaler()\n",
        "X_train = sc.fit_transform(X_train)\n",
        "X_test = sc.fit_transform(X_test)"
      ],
      "execution_count": 15,
      "outputs": []
    },
    {
      "cell_type": "code",
      "metadata": {
        "id": "gHdBUsPmM4XE"
      },
      "source": [
        "ann = tf.keras.models.Sequential()\n",
        "ann.add(tf.keras.layers.Dense(units= 20, activation='relu'))\n",
        "ann.add(tf.keras.layers.Dense(units= 40, activation= 'relu'))\n",
        "ann.add(tf.keras.layers.Dense(units= 80, activation= 'relu'))\n",
        "ann.add(tf.keras.layers.Dense(units=1, activation='sigmoid'))\n",
        "ann.compile(loss = 'binary_crossentropy', \n",
        "                      optimizer = 'adam', \n",
        "                      metrics = ['accuracy'])"
      ],
      "execution_count": 18,
      "outputs": []
    },
    {
      "cell_type": "code",
      "metadata": {
        "colab": {
          "base_uri": "https://localhost:8080/"
        },
        "id": "F3xMbYJ5Ncc8",
        "outputId": "462c02da-8eef-4469-a8ae-19a7097b433b"
      },
      "source": [
        "res=ann.fit(X_train, y_train,validation_data=(X_test, y_test), batch_size=32, epochs=10)"
      ],
      "execution_count": 19,
      "outputs": [
        {
          "output_type": "stream",
          "name": "stdout",
          "text": [
            "Epoch 1/10\n",
            "1036/1036 [==============================] - 3s 2ms/step - loss: 0.4099 - accuracy: 0.8500 - val_loss: 0.3980 - val_accuracy: 0.8520\n",
            "Epoch 2/10\n",
            "1036/1036 [==============================] - 2s 2ms/step - loss: 0.3992 - accuracy: 0.8503 - val_loss: 0.3970 - val_accuracy: 0.8520\n",
            "Epoch 3/10\n",
            "1036/1036 [==============================] - 2s 2ms/step - loss: 0.3976 - accuracy: 0.8503 - val_loss: 0.3966 - val_accuracy: 0.8520\n",
            "Epoch 4/10\n",
            "1036/1036 [==============================] - 2s 2ms/step - loss: 0.3962 - accuracy: 0.8503 - val_loss: 0.3945 - val_accuracy: 0.8519\n",
            "Epoch 5/10\n",
            "1036/1036 [==============================] - 2s 2ms/step - loss: 0.3956 - accuracy: 0.8503 - val_loss: 0.3980 - val_accuracy: 0.8519\n",
            "Epoch 6/10\n",
            "1036/1036 [==============================] - 2s 2ms/step - loss: 0.3948 - accuracy: 0.8504 - val_loss: 0.3945 - val_accuracy: 0.8520\n",
            "Epoch 7/10\n",
            "1036/1036 [==============================] - 2s 2ms/step - loss: 0.3944 - accuracy: 0.8506 - val_loss: 0.3951 - val_accuracy: 0.8521\n",
            "Epoch 8/10\n",
            "1036/1036 [==============================] - 2s 2ms/step - loss: 0.3940 - accuracy: 0.8506 - val_loss: 0.3946 - val_accuracy: 0.8520\n",
            "Epoch 9/10\n",
            "1036/1036 [==============================] - 2s 2ms/step - loss: 0.3933 - accuracy: 0.8505 - val_loss: 0.3938 - val_accuracy: 0.8520\n",
            "Epoch 10/10\n",
            "1036/1036 [==============================] - 2s 2ms/step - loss: 0.3930 - accuracy: 0.8505 - val_loss: 0.3945 - val_accuracy: 0.8522\n"
          ]
        }
      ]
    },
    {
      "cell_type": "code",
      "metadata": {
        "id": "q_lZyyPSUqEN"
      },
      "source": [
        "def plot_learning_evolution(r):\n",
        "    plt.figure(figsize=(12, 8))\n",
        "    \n",
        "    plt.subplot(2, 2, 1)\n",
        "    plt.plot(r.history['loss'], label='Loss')\n",
        "    plt.plot(r.history['val_loss'], label='val_Loss')\n",
        "    plt.title('Loss evolution during trainig')\n",
        "    plt.legend()\n",
        "\n",
        "    plt.subplot(2, 2, 2)\n",
        "    plt.plot(r.history['accuracy'], label='accuracy')\n",
        "    plt.plot(r.history['val_accuracy'], label='val_accuracy')\n",
        "    plt.title('Accuracy score evolution during trainig')\n",
        "    plt.legend()\n"
      ],
      "execution_count": 20,
      "outputs": []
    },
    {
      "cell_type": "code",
      "metadata": {
        "colab": {
          "base_uri": "https://localhost:8080/",
          "height": 262
        },
        "id": "aR29iXpPVP8o",
        "outputId": "39f2de57-6dfc-4947-8865-c5c14fbd912b"
      },
      "source": [
        "plot_learning_evolution(res)"
      ],
      "execution_count": 21,
      "outputs": [
        {
          "output_type": "display_data",
          "data": {
            "text/plain": [
              "<Figure size 864x576 with 2 Axes>"
            ],
            "image/png": "[encoded data removed]"
          },
          "metadata": {
            "needs_background": "light"
          }
        }
      ]
    },
    {
      "cell_type": "code",
      "metadata": {
        "id": "NfbJ2etVW_py"
      },
      "source": [
        "def evaluate_nn(true, pred, train):\n",
        "    if train:\n",
        "        clf_report = pd.DataFrame(classification_report(true, pred, output_dict=True))\n",
        "        print(\"Train Result:\\n================================================\")\n",
        "        print(f\"Accuracy Score: {accuracy_score(true, pred) * 100:.2f}%\")\n",
        "        print(\"_______________________________________________\")\n",
        "        print(f\"CLASSIFICATION REPORT:\\n{clf_report}\")\n",
        "        print(\"_______________________________________________\")\n",
        "        print(f\"Confusion Matrix: \\n {confusion_matrix(true, pred)}\\n\")\n",
        "        \n",
        "    elif train==False:\n",
        "        clf_report = pd.DataFrame(classification_report(true, pred, output_dict=True))\n",
        "        print(\"Test Result:\\n================================================\")        \n",
        "        print(f\"Accuracy Score: {accuracy_score(true, pred) * 100:.2f}%\")\n",
        "        print(\"_______________________________________________\")\n",
        "        print(f\"CLASSIFICATION REPORT:\\n{clf_report}\")\n",
        "        print(\"_______________________________________________\")\n",
        "        print(f\"Confusion Matrix: \\n {confusion_matrix(true, pred)}\\n\")"
      ],
      "execution_count": 22,
      "outputs": []
    },
    {
      "cell_type": "code",
      "metadata": {
        "colab": {
          "base_uri": "https://localhost:8080/"
        },
        "id": "Otwc2k9CXIkr",
        "outputId": "b0c661f8-806f-4596-a277-75781bf3f71e"
      },
      "source": [
        "y_train_pred = ann.predict(X_train)\n",
        "evaluate_nn(y_train, y_train_pred.round(), True)"
      ],
      "execution_count": 23,
      "outputs": [
        {
          "output_type": "stream",
          "name": "stdout",
          "text": [
            "Train Result:\n",
            "================================================\n",
            "Accuracy Score: 85.06%\n",
            "_______________________________________________\n",
            "CLASSIFICATION REPORT:\n",
            "                     0             1  accuracy     macro avg  weighted avg\n",
            "precision     1.000000      0.850566  0.850611      0.925283      0.872935\n",
            "recall        0.002016      1.000000  0.850611      0.501008      0.850611\n",
            "f1-score      0.004024      0.919250  0.850611      0.461637      0.782249\n",
            "support    4960.000000  28175.000000  0.850611  33135.000000  33135.000000\n",
            "_______________________________________________\n",
            "Confusion Matrix: \n",
            " [[   10  4950]\n",
            " [    0 28175]]\n",
            "\n"
          ]
        }
      ]
    },
    {
      "cell_type": "code",
      "metadata": {
        "colab": {
          "base_uri": "https://localhost:8080/"
        },
        "id": "c0weSomkX4ox",
        "outputId": "28011bcd-6b7b-4a6d-fe3c-d00ebb009229"
      },
      "source": [
        "y_test_pred = ann.predict(X_test)\n",
        "evaluate_nn(y_test, y_test_pred.round(), False)"
      ],
      "execution_count": 24,
      "outputs": [
        {
          "output_type": "stream",
          "name": "stdout",
          "text": [
            "Test Result:\n",
            "================================================\n",
            "Accuracy Score: 85.22%\n",
            "_______________________________________________\n",
            "CLASSIFICATION REPORT:\n",
            "                     0            1  accuracy    macro avg  weighted avg\n",
            "precision     0.666667     0.852380  0.852245     0.759523      0.824895\n",
            "recall        0.003263     0.999717  0.852245     0.501490      0.852245\n",
            "f1-score      0.006494     0.920188  0.852245     0.463341      0.784965\n",
            "support    1226.000000  7058.000000  0.852245  8284.000000   8284.000000\n",
            "_______________________________________________\n",
            "Confusion Matrix: \n",
            " [[   4 1222]\n",
            " [   2 7056]]\n",
            "\n"
          ]
        }
      ]
    },
    {
      "cell_type": "code",
      "metadata": {
        "colab": {
          "base_uri": "https://localhost:8080/"
        },
        "id": "z5EU5yFdNfWL",
        "outputId": "57fa672e-fab7-4dc6-a48f-a31f174bb71d"
      },
      "source": [
        "X[5869]"
      ],
      "execution_count": 25,
      "outputs": [
        {
          "output_type": "execute_result",
          "data": {
            "text/plain": [
              "array([3100.0, 0.0751, 5, 0, 32000.0, 1, 33, 17.55], dtype=object)"
            ]
          },
          "metadata": {},
          "execution_count": 25
        }
      ]
    },
    {
      "cell_type": "code",
      "metadata": {
        "colab": {
          "base_uri": "https://localhost:8080/"
        },
        "id": "G5PFCr2jOND8",
        "outputId": "4976e2b1-ba5f-4e40-cc56-8637d80122ee"
      },
      "source": [
        "print(ann.predict(sc.transform([[3100.0, 0.0751, 5, 0, 32000.0, 1, 33, 17.55]])) > 0.5)"
      ],
      "execution_count": 26,
      "outputs": [
        {
          "output_type": "stream",
          "name": "stdout",
          "text": [
            "[[ True]]\n"
          ]
        }
      ]
    },
    {
      "cell_type": "markdown",
      "metadata": {
        "id": "XAlaKeK1UCpM"
      },
      "source": [
        "# **Balancing Dataset**\n",
        "Creating a balancing dataset and feed it to the network"
      ]
    },
    {
      "cell_type": "code",
      "metadata": {
        "colab": {
          "base_uri": "https://localhost:8080/",
          "height": 424
        },
        "id": "Kcsr9mBBOZbr",
        "outputId": "1491f359-47d3-4553-c7de-8d3494ae7843"
      },
      "source": [
        "dfDefault = df[df['loan_status'] == 'Default']\n",
        "dfFullyPaid = df[df['loan_status'] == 'Fully Paid'].sample(n=len(dfDefault), random_state=17) \n",
        "dfDefault"
      ],
      "execution_count": null,
      "outputs": [
        {
          "output_type": "execute_result",
          "data": {
            "text/html": [
              "<div>\n",
              "<style scoped>\n",
              "    .dataframe tbody tr th:only-of-type {\n",
              "        vertical-align: middle;\n",
              "    }\n",
              "\n",
              "    .dataframe tbody tr th {\n",
              "        vertical-align: top;\n",
              "    }\n",
              "\n",
              "    .dataframe thead th {\n",
              "        text-align: right;\n",
              "    }\n",
              "</style>\n",
              "<table border=\"1\" class=\"dataframe\">\n",
              "  <thead>\n",
              "    <tr style=\"text-align: right;\">\n",
              "      <th></th>\n",
              "      <th>loan_amnt</th>\n",
              "      <th>int_rate</th>\n",
              "      <th>emp_length</th>\n",
              "      <th>home_ownership</th>\n",
              "      <th>annual_inc</th>\n",
              "      <th>purpose</th>\n",
              "      <th>addr_state</th>\n",
              "      <th>dti</th>\n",
              "      <th>loan_status</th>\n",
              "    </tr>\n",
              "  </thead>\n",
              "  <tbody>\n",
              "    <tr>\n",
              "      <th>1</th>\n",
              "      <td>2500.0</td>\n",
              "      <td>0.1527</td>\n",
              "      <td>&lt; 1 year</td>\n",
              "      <td>RENT</td>\n",
              "      <td>30000.0</td>\n",
              "      <td>car</td>\n",
              "      <td>GA</td>\n",
              "      <td>1.00</td>\n",
              "      <td>Default</td>\n",
              "    </tr>\n",
              "    <tr>\n",
              "      <th>8</th>\n",
              "      <td>5600.0</td>\n",
              "      <td>0.2128</td>\n",
              "      <td>4 years</td>\n",
              "      <td>OWN</td>\n",
              "      <td>40000.0</td>\n",
              "      <td>small_business</td>\n",
              "      <td>CA</td>\n",
              "      <td>5.55</td>\n",
              "      <td>Default</td>\n",
              "    </tr>\n",
              "    <tr>\n",
              "      <th>9</th>\n",
              "      <td>5375.0</td>\n",
              "      <td>0.1269</td>\n",
              "      <td>&lt; 1 year</td>\n",
              "      <td>RENT</td>\n",
              "      <td>15000.0</td>\n",
              "      <td>other</td>\n",
              "      <td>TX</td>\n",
              "      <td>18.08</td>\n",
              "      <td>Default</td>\n",
              "    </tr>\n",
              "    <tr>\n",
              "      <th>12</th>\n",
              "      <td>9000.0</td>\n",
              "      <td>0.1349</td>\n",
              "      <td>&lt; 1 year</td>\n",
              "      <td>RENT</td>\n",
              "      <td>30000.0</td>\n",
              "      <td>debt_consolidation</td>\n",
              "      <td>VA</td>\n",
              "      <td>10.08</td>\n",
              "      <td>Default</td>\n",
              "    </tr>\n",
              "    <tr>\n",
              "      <th>14</th>\n",
              "      <td>10000.0</td>\n",
              "      <td>0.1065</td>\n",
              "      <td>3 years</td>\n",
              "      <td>RENT</td>\n",
              "      <td>100000.0</td>\n",
              "      <td>other</td>\n",
              "      <td>CA</td>\n",
              "      <td>7.06</td>\n",
              "      <td>Default</td>\n",
              "    </tr>\n",
              "    <tr>\n",
              "      <th>...</th>\n",
              "      <td>...</td>\n",
              "      <td>...</td>\n",
              "      <td>...</td>\n",
              "      <td>...</td>\n",
              "      <td>...</td>\n",
              "      <td>...</td>\n",
              "      <td>...</td>\n",
              "      <td>...</td>\n",
              "      <td>...</td>\n",
              "    </tr>\n",
              "    <tr>\n",
              "      <th>42505</th>\n",
              "      <td>20000.0</td>\n",
              "      <td>0.1501</td>\n",
              "      <td>2 years</td>\n",
              "      <td>OWN</td>\n",
              "      <td>80000.0</td>\n",
              "      <td>credit_card</td>\n",
              "      <td>FL</td>\n",
              "      <td>3.11</td>\n",
              "      <td>Default</td>\n",
              "    </tr>\n",
              "    <tr>\n",
              "      <th>42506</th>\n",
              "      <td>6725.0</td>\n",
              "      <td>0.1312</td>\n",
              "      <td>10+ years</td>\n",
              "      <td>MORTGAGE</td>\n",
              "      <td>60000.0</td>\n",
              "      <td>debt_consolidation</td>\n",
              "      <td>MO</td>\n",
              "      <td>13.16</td>\n",
              "      <td>Default</td>\n",
              "    </tr>\n",
              "    <tr>\n",
              "      <th>42522</th>\n",
              "      <td>2600.0</td>\n",
              "      <td>0.0838</td>\n",
              "      <td>3 years</td>\n",
              "      <td>MORTGAGE</td>\n",
              "      <td>6500.0</td>\n",
              "      <td>other</td>\n",
              "      <td>CO</td>\n",
              "      <td>6.46</td>\n",
              "      <td>Default</td>\n",
              "    </tr>\n",
              "    <tr>\n",
              "      <th>42525</th>\n",
              "      <td>1275.0</td>\n",
              "      <td>0.1249</td>\n",
              "      <td>1 year</td>\n",
              "      <td>RENT</td>\n",
              "      <td>40000.0</td>\n",
              "      <td>other</td>\n",
              "      <td>MA</td>\n",
              "      <td>10.00</td>\n",
              "      <td>Default</td>\n",
              "    </tr>\n",
              "    <tr>\n",
              "      <th>42530</th>\n",
              "      <td>6500.0</td>\n",
              "      <td>0.0964</td>\n",
              "      <td>&lt; 1 year</td>\n",
              "      <td>RENT</td>\n",
              "      <td>20000.0</td>\n",
              "      <td>other</td>\n",
              "      <td>CT</td>\n",
              "      <td>10.00</td>\n",
              "      <td>Default</td>\n",
              "    </tr>\n",
              "  </tbody>\n",
              "</table>\n",
              "<p>6186 rows × 9 columns</p>\n",
              "</div>"
            ],
            "text/plain": [
              "       loan_amnt  int_rate emp_length  ... addr_state    dti loan_status\n",
              "1         2500.0    0.1527   < 1 year  ...         GA   1.00     Default\n",
              "8         5600.0    0.2128    4 years  ...         CA   5.55     Default\n",
              "9         5375.0    0.1269   < 1 year  ...         TX  18.08     Default\n",
              "12        9000.0    0.1349   < 1 year  ...         VA  10.08     Default\n",
              "14       10000.0    0.1065    3 years  ...         CA   7.06     Default\n",
              "...          ...       ...        ...  ...        ...    ...         ...\n",
              "42505    20000.0    0.1501    2 years  ...         FL   3.11     Default\n",
              "42506     6725.0    0.1312  10+ years  ...         MO  13.16     Default\n",
              "42522     2600.0    0.0838    3 years  ...         CO   6.46     Default\n",
              "42525     1275.0    0.1249     1 year  ...         MA  10.00     Default\n",
              "42530     6500.0    0.0964   < 1 year  ...         CT  10.00     Default\n",
              "\n",
              "[6186 rows x 9 columns]"
            ]
          },
          "metadata": {},
          "execution_count": 26
        }
      ]
    },
    {
      "cell_type": "code",
      "metadata": {
        "id": "3wCQMKs5QERC",
        "colab": {
          "base_uri": "https://localhost:8080/",
          "height": 424
        },
        "outputId": "61f0c9e3-edd8-480e-cf6e-b27f636857a7"
      },
      "source": [
        "dfFullyPaid"
      ],
      "execution_count": null,
      "outputs": [
        {
          "output_type": "execute_result",
          "data": {
            "text/html": [
              "<div>\n",
              "<style scoped>\n",
              "    .dataframe tbody tr th:only-of-type {\n",
              "        vertical-align: middle;\n",
              "    }\n",
              "\n",
              "    .dataframe tbody tr th {\n",
              "        vertical-align: top;\n",
              "    }\n",
              "\n",
              "    .dataframe thead th {\n",
              "        text-align: right;\n",
              "    }\n",
              "</style>\n",
              "<table border=\"1\" class=\"dataframe\">\n",
              "  <thead>\n",
              "    <tr style=\"text-align: right;\">\n",
              "      <th></th>\n",
              "      <th>loan_amnt</th>\n",
              "      <th>int_rate</th>\n",
              "      <th>emp_length</th>\n",
              "      <th>home_ownership</th>\n",
              "      <th>annual_inc</th>\n",
              "      <th>purpose</th>\n",
              "      <th>addr_state</th>\n",
              "      <th>dti</th>\n",
              "      <th>loan_status</th>\n",
              "    </tr>\n",
              "  </thead>\n",
              "  <tbody>\n",
              "    <tr>\n",
              "      <th>19681</th>\n",
              "      <td>10000.0</td>\n",
              "      <td>0.1074</td>\n",
              "      <td>1 year</td>\n",
              "      <td>RENT</td>\n",
              "      <td>29000.0</td>\n",
              "      <td>debt_consolidation</td>\n",
              "      <td>CA</td>\n",
              "      <td>19.16</td>\n",
              "      <td>Fully Paid</td>\n",
              "    </tr>\n",
              "    <tr>\n",
              "      <th>41501</th>\n",
              "      <td>5000.0</td>\n",
              "      <td>0.1355</td>\n",
              "      <td>9 years</td>\n",
              "      <td>MORTGAGE</td>\n",
              "      <td>95000.0</td>\n",
              "      <td>credit_card</td>\n",
              "      <td>FL</td>\n",
              "      <td>7.79</td>\n",
              "      <td>Fully Paid</td>\n",
              "    </tr>\n",
              "    <tr>\n",
              "      <th>540</th>\n",
              "      <td>13000.0</td>\n",
              "      <td>0.2352</td>\n",
              "      <td>10+ years</td>\n",
              "      <td>RENT</td>\n",
              "      <td>61000.0</td>\n",
              "      <td>debt_consolidation</td>\n",
              "      <td>NY</td>\n",
              "      <td>11.65</td>\n",
              "      <td>Fully Paid</td>\n",
              "    </tr>\n",
              "    <tr>\n",
              "      <th>18084</th>\n",
              "      <td>5500.0</td>\n",
              "      <td>0.0766</td>\n",
              "      <td>1 year</td>\n",
              "      <td>OWN</td>\n",
              "      <td>20000.0</td>\n",
              "      <td>major_purchase</td>\n",
              "      <td>CT</td>\n",
              "      <td>24.42</td>\n",
              "      <td>Fully Paid</td>\n",
              "    </tr>\n",
              "    <tr>\n",
              "      <th>13295</th>\n",
              "      <td>4800.0</td>\n",
              "      <td>0.0749</td>\n",
              "      <td>8 years</td>\n",
              "      <td>RENT</td>\n",
              "      <td>24000.0</td>\n",
              "      <td>other</td>\n",
              "      <td>CT</td>\n",
              "      <td>22.55</td>\n",
              "      <td>Fully Paid</td>\n",
              "    </tr>\n",
              "    <tr>\n",
              "      <th>...</th>\n",
              "      <td>...</td>\n",
              "      <td>...</td>\n",
              "      <td>...</td>\n",
              "      <td>...</td>\n",
              "      <td>...</td>\n",
              "      <td>...</td>\n",
              "      <td>...</td>\n",
              "      <td>...</td>\n",
              "      <td>...</td>\n",
              "    </tr>\n",
              "    <tr>\n",
              "      <th>33982</th>\n",
              "      <td>6000.0</td>\n",
              "      <td>0.0894</td>\n",
              "      <td>2 years</td>\n",
              "      <td>MORTGAGE</td>\n",
              "      <td>42000.0</td>\n",
              "      <td>credit_card</td>\n",
              "      <td>CA</td>\n",
              "      <td>18.23</td>\n",
              "      <td>Fully Paid</td>\n",
              "    </tr>\n",
              "    <tr>\n",
              "      <th>14002</th>\n",
              "      <td>1000.0</td>\n",
              "      <td>0.0699</td>\n",
              "      <td>10+ years</td>\n",
              "      <td>OWN</td>\n",
              "      <td>39000.0</td>\n",
              "      <td>other</td>\n",
              "      <td>VA</td>\n",
              "      <td>28.28</td>\n",
              "      <td>Fully Paid</td>\n",
              "    </tr>\n",
              "    <tr>\n",
              "      <th>9643</th>\n",
              "      <td>12000.0</td>\n",
              "      <td>0.0849</td>\n",
              "      <td>8 years</td>\n",
              "      <td>RENT</td>\n",
              "      <td>33000.0</td>\n",
              "      <td>debt_consolidation</td>\n",
              "      <td>CA</td>\n",
              "      <td>12.55</td>\n",
              "      <td>Fully Paid</td>\n",
              "    </tr>\n",
              "    <tr>\n",
              "      <th>31507</th>\n",
              "      <td>18000.0</td>\n",
              "      <td>0.1496</td>\n",
              "      <td>1 year</td>\n",
              "      <td>RENT</td>\n",
              "      <td>65000.0</td>\n",
              "      <td>credit_card</td>\n",
              "      <td>CA</td>\n",
              "      <td>20.95</td>\n",
              "      <td>Fully Paid</td>\n",
              "    </tr>\n",
              "    <tr>\n",
              "      <th>27221</th>\n",
              "      <td>20000.0</td>\n",
              "      <td>0.0788</td>\n",
              "      <td>10+ years</td>\n",
              "      <td>MORTGAGE</td>\n",
              "      <td>110000.0</td>\n",
              "      <td>home_improvement</td>\n",
              "      <td>FL</td>\n",
              "      <td>8.87</td>\n",
              "      <td>Fully Paid</td>\n",
              "    </tr>\n",
              "  </tbody>\n",
              "</table>\n",
              "<p>6186 rows × 9 columns</p>\n",
              "</div>"
            ],
            "text/plain": [
              "       loan_amnt  int_rate emp_length  ... addr_state    dti loan_status\n",
              "19681    10000.0    0.1074     1 year  ...         CA  19.16  Fully Paid\n",
              "41501     5000.0    0.1355    9 years  ...         FL   7.79  Fully Paid\n",
              "540      13000.0    0.2352  10+ years  ...         NY  11.65  Fully Paid\n",
              "18084     5500.0    0.0766     1 year  ...         CT  24.42  Fully Paid\n",
              "13295     4800.0    0.0749    8 years  ...         CT  22.55  Fully Paid\n",
              "...          ...       ...        ...  ...        ...    ...         ...\n",
              "33982     6000.0    0.0894    2 years  ...         CA  18.23  Fully Paid\n",
              "14002     1000.0    0.0699  10+ years  ...         VA  28.28  Fully Paid\n",
              "9643     12000.0    0.0849    8 years  ...         CA  12.55  Fully Paid\n",
              "31507    18000.0    0.1496     1 year  ...         CA  20.95  Fully Paid\n",
              "27221    20000.0    0.0788  10+ years  ...         FL   8.87  Fully Paid\n",
              "\n",
              "[6186 rows x 9 columns]"
            ]
          },
          "metadata": {},
          "execution_count": 27
        }
      ]
    },
    {
      "cell_type": "code",
      "metadata": {
        "colab": {
          "base_uri": "https://localhost:8080/",
          "height": 424
        },
        "id": "feVa1G3LVSrt",
        "outputId": "7b9417b9-1421-4c8f-bdc1-36ca9bf4c176"
      },
      "source": [
        "dfBal = pd.concat([dfDefault,dfFullyPaid], axis=0)\n",
        "dfBal"
      ],
      "execution_count": null,
      "outputs": [
        {
          "output_type": "execute_result",
          "data": {
            "text/html": [
              "<div>\n",
              "<style scoped>\n",
              "    .dataframe tbody tr th:only-of-type {\n",
              "        vertical-align: middle;\n",
              "    }\n",
              "\n",
              "    .dataframe tbody tr th {\n",
              "        vertical-align: top;\n",
              "    }\n",
              "\n",
              "    .dataframe thead th {\n",
              "        text-align: right;\n",
              "    }\n",
              "</style>\n",
              "<table border=\"1\" class=\"dataframe\">\n",
              "  <thead>\n",
              "    <tr style=\"text-align: right;\">\n",
              "      <th></th>\n",
              "      <th>loan_amnt</th>\n",
              "      <th>int_rate</th>\n",
              "      <th>emp_length</th>\n",
              "      <th>home_ownership</th>\n",
              "      <th>annual_inc</th>\n",
              "      <th>purpose</th>\n",
              "      <th>addr_state</th>\n",
              "      <th>dti</th>\n",
              "      <th>loan_status</th>\n",
              "    </tr>\n",
              "  </thead>\n",
              "  <tbody>\n",
              "    <tr>\n",
              "      <th>1</th>\n",
              "      <td>2500.0</td>\n",
              "      <td>0.1527</td>\n",
              "      <td>&lt; 1 year</td>\n",
              "      <td>RENT</td>\n",
              "      <td>30000.0</td>\n",
              "      <td>car</td>\n",
              "      <td>GA</td>\n",
              "      <td>1.00</td>\n",
              "      <td>Default</td>\n",
              "    </tr>\n",
              "    <tr>\n",
              "      <th>8</th>\n",
              "      <td>5600.0</td>\n",
              "      <td>0.2128</td>\n",
              "      <td>4 years</td>\n",
              "      <td>OWN</td>\n",
              "      <td>40000.0</td>\n",
              "      <td>small_business</td>\n",
              "      <td>CA</td>\n",
              "      <td>5.55</td>\n",
              "      <td>Default</td>\n",
              "    </tr>\n",
              "    <tr>\n",
              "      <th>9</th>\n",
              "      <td>5375.0</td>\n",
              "      <td>0.1269</td>\n",
              "      <td>&lt; 1 year</td>\n",
              "      <td>RENT</td>\n",
              "      <td>15000.0</td>\n",
              "      <td>other</td>\n",
              "      <td>TX</td>\n",
              "      <td>18.08</td>\n",
              "      <td>Default</td>\n",
              "    </tr>\n",
              "    <tr>\n",
              "      <th>12</th>\n",
              "      <td>9000.0</td>\n",
              "      <td>0.1349</td>\n",
              "      <td>&lt; 1 year</td>\n",
              "      <td>RENT</td>\n",
              "      <td>30000.0</td>\n",
              "      <td>debt_consolidation</td>\n",
              "      <td>VA</td>\n",
              "      <td>10.08</td>\n",
              "      <td>Default</td>\n",
              "    </tr>\n",
              "    <tr>\n",
              "      <th>14</th>\n",
              "      <td>10000.0</td>\n",
              "      <td>0.1065</td>\n",
              "      <td>3 years</td>\n",
              "      <td>RENT</td>\n",
              "      <td>100000.0</td>\n",
              "      <td>other</td>\n",
              "      <td>CA</td>\n",
              "      <td>7.06</td>\n",
              "      <td>Default</td>\n",
              "    </tr>\n",
              "    <tr>\n",
              "      <th>...</th>\n",
              "      <td>...</td>\n",
              "      <td>...</td>\n",
              "      <td>...</td>\n",
              "      <td>...</td>\n",
              "      <td>...</td>\n",
              "      <td>...</td>\n",
              "      <td>...</td>\n",
              "      <td>...</td>\n",
              "      <td>...</td>\n",
              "    </tr>\n",
              "    <tr>\n",
              "      <th>33982</th>\n",
              "      <td>6000.0</td>\n",
              "      <td>0.0894</td>\n",
              "      <td>2 years</td>\n",
              "      <td>MORTGAGE</td>\n",
              "      <td>42000.0</td>\n",
              "      <td>credit_card</td>\n",
              "      <td>CA</td>\n",
              "      <td>18.23</td>\n",
              "      <td>Fully Paid</td>\n",
              "    </tr>\n",
              "    <tr>\n",
              "      <th>14002</th>\n",
              "      <td>1000.0</td>\n",
              "      <td>0.0699</td>\n",
              "      <td>10+ years</td>\n",
              "      <td>OWN</td>\n",
              "      <td>39000.0</td>\n",
              "      <td>other</td>\n",
              "      <td>VA</td>\n",
              "      <td>28.28</td>\n",
              "      <td>Fully Paid</td>\n",
              "    </tr>\n",
              "    <tr>\n",
              "      <th>9643</th>\n",
              "      <td>12000.0</td>\n",
              "      <td>0.0849</td>\n",
              "      <td>8 years</td>\n",
              "      <td>RENT</td>\n",
              "      <td>33000.0</td>\n",
              "      <td>debt_consolidation</td>\n",
              "      <td>CA</td>\n",
              "      <td>12.55</td>\n",
              "      <td>Fully Paid</td>\n",
              "    </tr>\n",
              "    <tr>\n",
              "      <th>31507</th>\n",
              "      <td>18000.0</td>\n",
              "      <td>0.1496</td>\n",
              "      <td>1 year</td>\n",
              "      <td>RENT</td>\n",
              "      <td>65000.0</td>\n",
              "      <td>credit_card</td>\n",
              "      <td>CA</td>\n",
              "      <td>20.95</td>\n",
              "      <td>Fully Paid</td>\n",
              "    </tr>\n",
              "    <tr>\n",
              "      <th>27221</th>\n",
              "      <td>20000.0</td>\n",
              "      <td>0.0788</td>\n",
              "      <td>10+ years</td>\n",
              "      <td>MORTGAGE</td>\n",
              "      <td>110000.0</td>\n",
              "      <td>home_improvement</td>\n",
              "      <td>FL</td>\n",
              "      <td>8.87</td>\n",
              "      <td>Fully Paid</td>\n",
              "    </tr>\n",
              "  </tbody>\n",
              "</table>\n",
              "<p>12372 rows × 9 columns</p>\n",
              "</div>"
            ],
            "text/plain": [
              "       loan_amnt  int_rate emp_length  ... addr_state    dti loan_status\n",
              "1         2500.0    0.1527   < 1 year  ...         GA   1.00     Default\n",
              "8         5600.0    0.2128    4 years  ...         CA   5.55     Default\n",
              "9         5375.0    0.1269   < 1 year  ...         TX  18.08     Default\n",
              "12        9000.0    0.1349   < 1 year  ...         VA  10.08     Default\n",
              "14       10000.0    0.1065    3 years  ...         CA   7.06     Default\n",
              "...          ...       ...        ...  ...        ...    ...         ...\n",
              "33982     6000.0    0.0894    2 years  ...         CA  18.23  Fully Paid\n",
              "14002     1000.0    0.0699  10+ years  ...         VA  28.28  Fully Paid\n",
              "9643     12000.0    0.0849    8 years  ...         CA  12.55  Fully Paid\n",
              "31507    18000.0    0.1496     1 year  ...         CA  20.95  Fully Paid\n",
              "27221    20000.0    0.0788  10+ years  ...         FL   8.87  Fully Paid\n",
              "\n",
              "[12372 rows x 9 columns]"
            ]
          },
          "metadata": {},
          "execution_count": 28
        }
      ]
    },
    {
      "cell_type": "code",
      "metadata": {
        "id": "TNzQG9ksWFwN"
      },
      "source": [
        "X = df.iloc [:, :-1].values\n",
        "y = df.iloc [:, -1].values\n",
        "\n",
        "le = LabelEncoder()\n",
        "y = le.fit_transform(y)\n",
        "\n",
        "X[:, 2] = le.fit_transform(X[:, 2])\n",
        "X[:, 3] = le.fit_transform(X[:, 3])\n",
        "X[:, 5] = le.fit_transform(X[:, 5])\n",
        "X[:, 6] = le.fit_transform(X[:, 6])\n",
        "\n",
        "#train and test split\n",
        "X_train, X_test, y_train, y_test = train_test_split (X, y, test_size = 0.2, random_state = 17)\n",
        "\n",
        "sc = StandardScaler()\n",
        "X_train = sc.fit_transform(X_train)\n",
        "X_test = sc.fit_transform(X_test)\n"
      ],
      "execution_count": null,
      "outputs": []
    },
    {
      "cell_type": "code",
      "metadata": {
        "colab": {
          "base_uri": "https://localhost:8080/"
        },
        "id": "XoB_kFEpXJy0",
        "outputId": "210f75b1-a70e-481c-d049-b5471706b057"
      },
      "source": [
        "res=ann.fit(X_train, y_train,validation_data=(X_test, y_test), batch_size=32, epochs=10)\n"
      ],
      "execution_count": null,
      "outputs": [
        {
          "output_type": "stream",
          "name": "stdout",
          "text": [
            "Epoch 1/10\n",
            "1036/1036 [==============================] - 2s 2ms/step - loss: 0.3865 - accuracy: 0.8513 - val_loss: 0.4027 - val_accuracy: 0.8455\n",
            "Epoch 2/10\n",
            "1036/1036 [==============================] - 2s 2ms/step - loss: 0.3859 - accuracy: 0.8514 - val_loss: 0.4008 - val_accuracy: 0.8490\n",
            "Epoch 3/10\n",
            "1036/1036 [==============================] - 2s 2ms/step - loss: 0.3852 - accuracy: 0.8514 - val_loss: 0.4066 - val_accuracy: 0.8426\n",
            "Epoch 4/10\n",
            "1036/1036 [==============================] - 2s 2ms/step - loss: 0.3853 - accuracy: 0.8510 - val_loss: 0.4025 - val_accuracy: 0.8478\n",
            "Epoch 5/10\n",
            "1036/1036 [==============================] - 2s 2ms/step - loss: 0.3845 - accuracy: 0.8515 - val_loss: 0.3994 - val_accuracy: 0.8489\n",
            "Epoch 6/10\n",
            "1036/1036 [==============================] - 2s 2ms/step - loss: 0.3841 - accuracy: 0.8515 - val_loss: 0.3990 - val_accuracy: 0.8493\n",
            "Epoch 7/10\n",
            "1036/1036 [==============================] - 2s 2ms/step - loss: 0.3837 - accuracy: 0.8518 - val_loss: 0.4046 - val_accuracy: 0.8451\n",
            "Epoch 8/10\n",
            "1036/1036 [==============================] - 2s 2ms/step - loss: 0.3826 - accuracy: 0.8519 - val_loss: 0.4034 - val_accuracy: 0.8465\n",
            "Epoch 9/10\n",
            "1036/1036 [==============================] - 2s 2ms/step - loss: 0.3825 - accuracy: 0.8521 - val_loss: 0.4031 - val_accuracy: 0.8477\n",
            "Epoch 10/10\n",
            "1036/1036 [==============================] - 2s 2ms/step - loss: 0.3816 - accuracy: 0.8519 - val_loss: 0.4026 - val_accuracy: 0.8497\n"
          ]
        }
      ]
    },
    {
      "cell_type": "code",
      "metadata": {
        "colab": {
          "base_uri": "https://localhost:8080/",
          "height": 262
        },
        "id": "BlyMgdyhXMRa",
        "outputId": "7ba19673-f8f1-4fd5-94a0-b1b61af456c3"
      },
      "source": [
        "plot_learning_evolution(res)"
      ],
      "execution_count": null,
      "outputs": [
        {
          "output_type": "display_data",
          "data": {
            "image/png": "[encoded data removed]",
            "text/plain": [
              "<Figure size 864x576 with 2 Axes>"
            ]
          },
          "metadata": {
            "needs_background": "light"
          }
        }
      ]
    },
    {
      "cell_type": "code",
      "metadata": {
        "colab": {
          "base_uri": "https://localhost:8080/"
        },
        "id": "CDxZG5FpXRWq",
        "outputId": "0d315d6f-9d59-48ee-875b-dbd28b3070c0"
      },
      "source": [
        "y_train_pred = ann.predict(X_train)\n",
        "evaluate_nn(y_train, y_train_pred.round(), True)\n",
        "\n",
        "\n",
        "y_test_pred = ann.predict(X_test)\n",
        "evaluate_nn(y_test, y_test_pred.round(), False)"
      ],
      "execution_count": null,
      "outputs": [
        {
          "output_type": "stream",
          "name": "stdout",
          "text": [
            "Train Result:\n",
            "================================================\n",
            "Accuracy Score: 85.27%\n",
            "_______________________________________________\n",
            "CLASSIFICATION REPORT:\n",
            "                     0             1  accuracy     macro avg  weighted avg\n",
            "precision     0.694581      0.853668  0.852694      0.774125      0.829854\n",
            "recall        0.028427      0.997799  0.852694      0.513113      0.852694\n",
            "f1-score      0.054619      0.920124  0.852694      0.487372      0.790566\n",
            "support    4960.000000  28175.000000  0.852694  33135.000000  33135.000000\n",
            "_______________________________________________\n",
            "Confusion Matrix: \n",
            " [[  141  4819]\n",
            " [   62 28113]]\n",
            "\n",
            "Test Result:\n",
            "================================================\n",
            "Accuracy Score: 84.97%\n",
            "_______________________________________________\n",
            "CLASSIFICATION REPORT:\n",
            "                     0            1  accuracy    macro avg  weighted avg\n",
            "precision     0.362319     0.853804   0.84971     0.608061      0.781066\n",
            "recall        0.020392     0.993766   0.84971     0.507079      0.849710\n",
            "f1-score      0.038610     0.918484   0.84971     0.478547      0.788266\n",
            "support    1226.000000  7058.000000   0.84971  8284.000000   8284.000000\n",
            "_______________________________________________\n",
            "Confusion Matrix: \n",
            " [[  25 1201]\n",
            " [  44 7014]]\n",
            "\n"
          ]
        }
      ]
    },
    {
      "cell_type": "code",
      "metadata": {
        "colab": {
          "base_uri": "https://localhost:8080/"
        },
        "id": "q-rA5t_8XVBr",
        "outputId": "bea8e685-05c6-47a6-8917-ce47e5646128"
      },
      "source": [
        "print(ann.predict(sc.transform([[3100.0, 0.0751, 5, 0, 32000.0, 1, 33, 17.55]])) > 0.5)"
      ],
      "execution_count": null,
      "outputs": [
        {
          "output_type": "stream",
          "name": "stdout",
          "text": [
            "[[ True]]\n"
          ]
        }
      ]
    },
    {
      "cell_type": "code",
      "metadata": {
        "id": "7Khj1JF5XYgb"
      },
      "source": [
        ""
      ],
      "execution_count": null,
      "outputs": []
    }
  ]
}